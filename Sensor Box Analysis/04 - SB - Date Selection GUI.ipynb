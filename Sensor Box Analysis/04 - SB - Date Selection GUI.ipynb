{
 "cells": [
  {
   "cell_type": "markdown",
   "metadata": {},
   "source": [
    "#Little Python GUI to select date"
   ]
  },
  {
   "cell_type": "code",
   "execution_count": 6,
   "metadata": {
    "collapsed": false
   },
   "outputs": [
    {
     "name": "stdout",
     "output_type": "stream",
     "text": [
      "The start date is 2015-03-12T07:00:00, the enddate ist 2015-03-16T03:00:00\n"
     ]
    }
   ],
   "source": [
    "import Tkinter as tk\n",
    "from datetime import datetime\n",
    "\n",
    "class date_GUI(tk.Frame):\n",
    "    def __init__(self, parent, *args, **kwargs):\n",
    "        tk.Frame.__init__(self, parent, *args, **kwargs)\n",
    "        self.grid()\n",
    "        \n",
    "        self.parent = parent\n",
    "        self.start = datetime(1900,1,1)\n",
    "        self.end = datetime(1900,1,1)\n",
    "        self.initial_value = ['Hour','Day','Month','Year']\n",
    "        self.all_options = [['%02d'%(i) for i in range(1,24)],['%02d'%(i) for i in range(1,32)],['%02d'%(i) for i in range(1,13)],range(2015,2016)]\n",
    "        \n",
    "    def select_date(self):\n",
    "        \n",
    "        #START DATE\n",
    "        tk.Label(self.parent, text=\"Select start date:\").grid(row=0)\n",
    "        self.var_start = [tk.StringVar(self.parent) for i in range(len(self.initial_value))]\n",
    "        for i in range(len(self.initial_value)):\n",
    "            self.var_start[i].set(self.initial_value[i])\n",
    "            apply(tk.OptionMenu, (self.parent, self.var_start[i]) + tuple(self.all_options[i])).grid(row=1,column=i)\n",
    "        \n",
    "        #END DATE\n",
    "        tk.Label(self.parent, text=\"Select end date:\").grid(row=2)\n",
    "        self.var_end = [tk.StringVar(self.parent) for i in range(len(self.initial_value))]\n",
    "        for i in range(len(self.initial_value)):\n",
    "            self.var_end[i].set(self.initial_value[i])\n",
    "            apply(tk.OptionMenu, (self.parent, self.var_end[i]) + tuple(self.all_options[i])).grid(row=3,column=i)\n",
    "        \n",
    "        tk.Button(self.parent, text='OK', command=self.ok).grid(row=4,column=5)\n",
    "        \n",
    "    def ok(self):\n",
    "        try:\n",
    "            self.start = datetime(int(self.var_start[3].get()),int(self.var_start[2].get()),int(self.var_start[1].get()),int(self.var_start[0].get()))\n",
    "            self.end =  datetime(int(self.var_end[3].get()),int(self.var_end[2].get()),int(self.var_end[1].get()),int(self.var_end[0].get()))\n",
    "            self.parent.quit()\n",
    "        except:\n",
    "            print \"Please select a number for each drop-down menu!\"\n",
    "           \n",
    "        \n",
    "root = tk.Tk()\n",
    "root.title('Select dates')\n",
    "\n",
    "App = date_GUI(root)\n",
    "App.select_date()\n",
    "\n",
    "root.mainloop()\n",
    "root.destroy()\n",
    "\n",
    "start = App.start\n",
    "end = App.end\n",
    "\n",
    "print \"The start date is %s, the enddate ist %s\" %(start.isoformat(), end.isoformat())"
   ]
  }
 ],
 "metadata": {
  "kernelspec": {
   "display_name": "Python 2",
   "language": "python",
   "name": "python2"
  },
  "language_info": {
   "codemirror_mode": {
    "name": "ipython",
    "version": 2
   },
   "file_extension": ".py",
   "mimetype": "text/x-python",
   "name": "python",
   "nbconvert_exporter": "python",
   "pygments_lexer": "ipython2",
   "version": "2.7.6"
  }
 },
 "nbformat": 4,
 "nbformat_minor": 0
}
