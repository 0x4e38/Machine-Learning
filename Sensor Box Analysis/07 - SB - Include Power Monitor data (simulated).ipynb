{
 "cells": [
  {
   "cell_type": "markdown",
   "metadata": {},
   "source": [
    "#Map data from power monitor and door to sensor box stuff"
   ]
  },
  {
   "cell_type": "code",
   "execution_count": 1,
   "metadata": {
    "collapsed": true
   },
   "outputs": [],
   "source": [
    "import numpy as np\n",
    "import pandas as pd\n",
    "\n",
    "from datetime import datetime\n",
    "from datetime import timedelta\n",
    "\n",
    "#Plotting\n",
    "import matplotlib.pyplot as plt\n",
    "%matplotlib inline\n",
    "from matplotlib import dates as mdates\n",
    "from matplotlib.ticker import LinearLocator"
   ]
  },
  {
   "cell_type": "markdown",
   "metadata": {},
   "source": [
    "##Create example data set"
   ]
  },
  {
   "cell_type": "code",
   "execution_count": 2,
   "metadata": {
    "collapsed": false
   },
   "outputs": [],
   "source": [
    "data = [\n",
    "    ['2015-07-03 07:00:00', 1],\n",
    "    ['2015-07-03 07:02:00', 0],\n",
    "    ['2015-07-03 07:05:00', 1],\n",
    "    ['2015-07-03 07:10:00', 0],\n",
    "    ]\n",
    "\n",
    "tp = [\n",
    "        '2015-07-03 07:00:00',\n",
    "        '2015-07-03 07:01:00',\n",
    "        '2015-07-03 07:02:00',\n",
    "        '2015-07-03 07:03:00',\n",
    "        '2015-07-03 07:04:00',\n",
    "        '2015-07-03 07:05:00',\n",
    "        '2015-07-03 07:06:00',\n",
    "        '2015-07-03 07:07:00',\n",
    "        '2015-07-03 07:08:00',\n",
    "        '2015-07-03 07:09:00',\n",
    "        '2015-07-03 07:10:00',\n",
    "    ]\n",
    "\n",
    "for line in data:\n",
    "    line[0] = datetime.strptime(line[0], \"%Y-%m-%d %H:%M:%S\")\n",
    "    \n",
    "tp = [datetime.strptime(line, \"%Y-%m-%d %H:%M:%S\") for line in tp]"
   ]
  },
  {
   "cell_type": "markdown",
   "metadata": {},
   "source": [
    "**Mapping example input to example timestamps:**"
   ]
  },
  {
   "cell_type": "code",
   "execution_count": 3,
   "metadata": {
    "collapsed": false
   },
   "outputs": [
    {
     "name": "stdout",
     "output_type": "stream",
     "text": [
      "[1, 1, 0, 0, 0, 1, 1, 1, 1, 1, 0]\n"
     ]
    }
   ],
   "source": [
    "out,j = [],0\n",
    "for i in range(len(tp)):\n",
    "    if tp[i] < data[j+1][0]:\n",
    "        #print i,j\n",
    "        out.append([tp[i],data[j][1]])\n",
    "    else:\n",
    "        out.append([tp[i],data[j+1][1]])\n",
    "        j += 1\n",
    "\n",
    "print [line[1] for line in out]"
   ]
  },
  {
   "cell_type": "markdown",
   "metadata": {},
   "source": [
    "##Random simulated kettle data"
   ]
  },
  {
   "cell_type": "code",
   "execution_count": 2,
   "metadata": {
    "collapsed": false
   },
   "outputs": [
    {
     "name": "stdout",
     "output_type": "stream",
     "text": [
      "                     kettle\n",
      "2015-07-02 01:05:00       1\n",
      "2015-07-02 01:07:00       0\n",
      "2015-07-02 04:02:00       1\n",
      "2015-07-02 04:04:00       0\n",
      "2015-07-02 20:29:00       1\n",
      "2015-07-02 20:31:00       0\n",
      "2015-07-02 21:45:00       1\n",
      "2015-07-02 21:47:00       0\n",
      "2015-07-02 23:45:00       1\n",
      "2015-07-02 23:47:00       0\n"
     ]
    }
   ],
   "source": [
    "n = 5 #number of times kettle is used\n",
    "time_on = timedelta(minutes=2) #amount of time kettle is on\n",
    "\n",
    "#random date input\n",
    "ye = np.array([2015] * n)\n",
    "mo = np.array([7] * n)\n",
    "da = np.random.randint(2,3,n)\n",
    "ho = np.random.randint(0,24,n)\n",
    "mi = np.random.randint(0,60,n)\n",
    "\n",
    "rd_date=[]\n",
    "for i in range(n):\n",
    "    rd_date.append(datetime(ye[i],mo[i],da[i],ho[i],mi[i]))\n",
    "    rd_date.append(datetime(ye[i],mo[i],da[i],ho[i],mi[i])+time_on)\n",
    "\n",
    "rd_date_sorted = np.sort(rd_date)\n",
    "\n",
    "on_off = np.array(n*[1,0], dtype=int)\n",
    "\n",
    "kettle = pd.DataFrame(on_off,index=rd_date_sorted,columns=['kettle'])\n",
    "print kettle"
   ]
  },
  {
   "cell_type": "code",
   "execution_count": 3,
   "metadata": {
    "collapsed": false
   },
   "outputs": [
    {
     "name": "stdout",
     "output_type": "stream",
     "text": [
      "                       random\n",
      "2015-07-02 00:00:00  0.812067\n",
      "2015-07-02 00:05:00  0.608861\n",
      "2015-07-02 00:10:00  0.893104\n",
      "2015-07-02 00:15:00  0.559244\n",
      "2015-07-02 00:20:00  0.085608\n"
     ]
    }
   ],
   "source": [
    "#example timestamps for a day\n",
    "delta = 5\n",
    "m = 24*60/delta\n",
    "start = datetime(2015,7,2,0,0)\n",
    "sequence = [start]\n",
    "\n",
    "for i in range(1,m):\n",
    "    sequence.append(start+i*timedelta(minutes=delta))\n",
    "\n",
    "#dataframe with random variable\n",
    "df = pd.DataFrame(np.random.random(size=len(sequence)),index=sequence,columns=[\"random\"])\n",
    "print df.head()"
   ]
  },
  {
   "cell_type": "markdown",
   "metadata": {},
   "source": [
    "##Mapping simulated kettle data to example data-frame"
   ]
  },
  {
   "cell_type": "code",
   "execution_count": 4,
   "metadata": {
    "collapsed": false
   },
   "outputs": [
    {
     "name": "stdout",
     "output_type": "stream",
     "text": [
      "2015-07-02 03:20:00    0\n",
      "2015-07-02 03:25:00    0\n",
      "2015-07-02 03:30:00    0\n",
      "2015-07-02 03:35:00    0\n",
      "2015-07-02 03:40:00    0\n",
      "2015-07-02 03:45:00    0\n",
      "2015-07-02 03:50:00    0\n",
      "2015-07-02 03:55:00    0\n",
      "2015-07-02 04:00:00    0\n",
      "2015-07-02 04:05:00    1\n",
      "2015-07-02 04:10:00    0\n",
      "2015-07-02 04:15:00    0\n",
      "2015-07-02 04:20:00    0\n",
      "2015-07-02 04:25:00    0\n",
      "2015-07-02 04:30:00    0\n",
      "2015-07-02 04:35:00    0\n",
      "2015-07-02 04:40:00    0\n",
      "2015-07-02 04:45:00    0\n",
      "2015-07-02 04:50:00    0\n",
      "2015-07-02 04:55:00    0\n",
      "2015-07-02 05:00:00    0\n",
      "2015-07-02 05:05:00    0\n",
      "2015-07-02 05:10:00    0\n",
      "2015-07-02 05:15:00    0\n",
      "2015-07-02 05:20:00    0\n",
      "2015-07-02 05:25:00    0\n",
      "2015-07-02 05:30:00    0\n",
      "2015-07-02 05:35:00    0\n",
      "2015-07-02 05:40:00    0\n",
      "2015-07-02 05:45:00    0\n",
      "Name: kettle, dtype: float64\n"
     ]
    }
   ],
   "source": [
    "out,j = np.zeros(len(df.index)),0\n",
    "\n",
    "for i in range(len(df.index)):\n",
    "    #print i,j\n",
    "    if df.index[i] < kettle.index[j] and kettle[\"kettle\"][j] == 1:\n",
    "        continue\n",
    "        \n",
    "    elif df.index[i] < kettle.index[j] and kettle[\"kettle\"][j] == 0:\n",
    "        out[i] = 1\n",
    "    \n",
    "    else:\n",
    "        out[i] = kettle[\"kettle\"][j]\n",
    "        \n",
    "        if j < len(kettle.index)-1: \n",
    "            j += 1\n",
    "        else:\n",
    "            continue\n",
    "\n",
    "df[\"kettle\"] = out\n",
    "print df[\"kettle\"][40:70]"
   ]
  },
  {
   "cell_type": "code",
   "execution_count": 5,
   "metadata": {
    "collapsed": false
   },
   "outputs": [
    {
     "data": {
      "text/plain": [
       "(0, 1)"
      ]
     },
     "execution_count": 5,
     "metadata": {},
     "output_type": "execute_result"
    },
    {
     "data": {
      "image/png": "[encoded data removed]",
      "text/plain": [
       "<matplotlib.figure.Figure at 0x10f4669d0>"
      ]
     },
     "metadata": {},
     "output_type": "display_data"
    }
   ],
   "source": [
    "fig, axs = plt.subplots(1, 1, sharex=True, sharey=True, figsize=(10,2.5))\n",
    "\n",
    "axs.fill_between(df.index,0,df[\"kettle\"],color=\"lightblue\")\n",
    "#axs[1].fill_between(df.index,0,df[\"kettle\"],color=\"lightblue\")\n",
    "\n",
    "hfmt = mdates.DateFormatter('%d/%m %H:%M')\n",
    "\n",
    "fig.autofmt_xdate()\n",
    "axs.xaxis.set_major_locator(LinearLocator(numticks=20))\n",
    "axs.xaxis.set_major_formatter(hfmt)\n",
    "axs.set_ylim(0,1)"
   ]
  },
  {
   "cell_type": "markdown",
   "metadata": {},
   "source": [
    "##Merge simulated kettle data with a real dataset from sensorbox"
   ]
  },
  {
   "cell_type": "code",
   "execution_count": 6,
   "metadata": {
    "collapsed": false
   },
   "outputs": [
    {
     "name": "stdout",
     "output_type": "stream",
     "text": [
      "Data has been fetched.\n",
      "\n",
      "Data has been added to a pandas dataframe:\n",
      "\n",
      "               temp         light     noise_max      noise_av     noise_var  \\\n",
      "count  10051.000000  10051.000000  10051.000000  10051.000000  10051.000000   \n",
      "mean      30.363805   1920.207044   2111.177196   2068.881027    211.814367   \n",
      "std        0.665050   1085.219351     80.083515      0.838277   1698.511513   \n",
      "min       29.300000    341.000000   2072.000000   2054.500000      1.900000   \n",
      "25%       29.800000    708.000000   2080.000000   2068.700000      4.100000   \n",
      "50%       30.300000   2068.000000   2093.000000   2068.900000     10.500000   \n",
      "75%       30.900000   2829.000000   2118.000000   2069.200000     89.800000   \n",
      "max       32.400000   3366.000000   3298.000000   2084.100000  66404.300000   \n",
      "\n",
      "            pir_per       pir_num  \n",
      "count  10030.000000  10030.000000  \n",
      "mean       5.192642     11.026221  \n",
      "std       15.628701     31.660954  \n",
      "min        0.000000      0.000000  \n",
      "25%        0.000000      0.000000  \n",
      "50%        0.000000      0.000000  \n",
      "75%        0.000000      0.000000  \n",
      "max       95.000000    224.000000  \n"
     ]
    }
   ],
   "source": [
    "import simplejson as json\n",
    "import urllib2\n",
    "\n",
    "link=\"http://109.237.25.161/particle/events?start_date=2015-07-02 03:00:00&end_date=2015-07-02 23:00:00&device=53ff6d066667574831402467\"\n",
    "decoded_json = json.loads(urllib2.urlopen(link).read())['events']\n",
    "\n",
    "date_format = '%Y-%m-%d %H:%M:%S'\n",
    "dat = []\n",
    "timestamp = []\n",
    "\n",
    "for line in decoded_json:\n",
    "    buf = [x.strip() for x in line['data'].split(\",\")]\n",
    "    \n",
    "    if len(buf)==5:\n",
    "            dat.append(buf)\n",
    "            timestamp.append(datetime.strptime(line['timestamp'],date_format))\n",
    "    elif len(buf)==2:\n",
    "            try:\n",
    "                dat[-1].append(buf[0])\n",
    "                dat[-1].append(buf[1])\n",
    "            except IndexError:\n",
    "                continue\n",
    "    else:\n",
    "            continue\n",
    "\n",
    "print \"Data has been fetched.\\n\"\n",
    "\n",
    "params = [\"temp\",\"light\",\"noise_max\",\"noise_av\",\"noise_var\",\"pir_per\",\"pir_num\"]\n",
    "\n",
    "df = pd.DataFrame(dat, index=timestamp, columns=params)\n",
    "df = df.convert_objects(convert_numeric=True)\n",
    "\n",
    "print \"Data has been added to a pandas dataframe:\\n\"\n",
    "print df.describe()"
   ]
  },
  {
   "cell_type": "code",
   "execution_count": 7,
   "metadata": {
    "collapsed": false
   },
   "outputs": [],
   "source": [
    "out,j = np.zeros(len(df.index)),0\n",
    "\n",
    "for i in range(len(df.index)):\n",
    "    #print i,j\n",
    "    if df.index[i] < kettle.index[j] and kettle[\"kettle\"][j] == 1:\n",
    "        continue\n",
    "        \n",
    "    elif df.index[i] < kettle.index[j] and kettle[\"kettle\"][j] == 0:\n",
    "        out[i] = 1\n",
    "    \n",
    "    else:\n",
    "        out[i] = kettle[\"kettle\"][j]\n",
    "        \n",
    "        if j < len(kettle.index)-1: \n",
    "            j += 1\n",
    "        else:\n",
    "            continue\n",
    "\n",
    "df[\"kettle\"] = out\n",
    "#print df[\"kettle\"][40:60]"
   ]
  },
  {
   "cell_type": "code",
   "execution_count": 8,
   "metadata": {
    "collapsed": false
   },
   "outputs": [
    {
     "data": {
      "image/png": "[encoded data removed]",
      "text/plain": [
       "<matplotlib.figure.Figure at 0x10f45b690>"
      ]
     },
     "metadata": {},
     "output_type": "display_data"
    }
   ],
   "source": [
    "cols = ['lightblue','teal','lightgray','black','green','red','blue','darkblue']\n",
    "para = [\"temp\",\"light\",\"noise_max\",\"noise_av\",\"noise_var\",\"pir_per\",\"pir_num\",\"kettle\"]\n",
    "\n",
    "fig, axs = plt.subplots(len(para), 1, sharex=True, sharey=False, figsize=(5,10))\n",
    "\n",
    "for i in range(len(para)):\n",
    "    axs[i].fill_between(df.index,0,df[para[i]],color=cols[i])\n",
    "    axs[i].set_title(\"{}\".format(para[i]))\n",
    "\n",
    "hfmt = mdates.DateFormatter('%d/%m %H:%M')\n",
    "\n",
    "fig.autofmt_xdate()\n",
    "axs[0].xaxis.set_major_locator(LinearLocator(numticks=5))\n",
    "axs[0].xaxis.set_major_formatter(hfmt)\n",
    "#axs[0].set_ylim(0,1)"
   ]
  },
  {
   "cell_type": "code",
   "execution_count": null,
   "metadata": {
    "collapsed": true
   },
   "outputs": [],
   "source": []
  },
  {
   "cell_type": "code",
   "execution_count": null,
   "metadata": {
    "collapsed": true
   },
   "outputs": [],
   "source": []
  }
 ],
 "metadata": {
  "kernelspec": {
   "display_name": "Python 2",
   "language": "python",
   "name": "python2"
  },
  "language_info": {
   "codemirror_mode": {
    "name": "ipython",
    "version": 2
   },
   "file_extension": ".py",
   "mimetype": "text/x-python",
   "name": "python",
   "nbconvert_exporter": "python",
   "pygments_lexer": "ipython2",
   "version": "2.7.6"
  }
 },
 "nbformat": 4,
 "nbformat_minor": 0
}
