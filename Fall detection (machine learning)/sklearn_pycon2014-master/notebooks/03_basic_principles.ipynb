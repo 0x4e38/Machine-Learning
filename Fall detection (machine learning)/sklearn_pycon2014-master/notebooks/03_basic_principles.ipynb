{
 "cells": [
  {
   "cell_type": "markdown",
   "metadata": {},
   "source": [
    "<small><i>This notebook was put together by [Jake Vanderplas](http://www.vanderplas.com) for PyCon 2014. Source and license info is on [GitHub](https://github.com/jakevdp/sklearn_pycon2014/).</i></small>"
   ]
  },
  {
   "cell_type": "markdown",
   "metadata": {},
   "source": [
    "# Basic principles of machine learning"
   ]
  },
  {
   "cell_type": "markdown",
   "metadata": {},
   "source": [
    "Here is where we start diving into the field of machine learning.\n",
    "\n",
    "By the end of this section you will\n",
    "\n",
    "- Know the basic categories of supervised learning, including classification and regression problems.\n",
    "- Know the basic categories of unsupervised learning, including dimensionality reduction and clustering.\n",
    "- Know the basic syntax of the Scikit-learn **estimator** interface.\n",
    "- Know why data should be split into a **training set** and **test set**\n",
    "\n",
    "In addition, we will go over several basic tools within scikit-learn which can be used to accomplish the above tasks."
   ]
  },
  {
   "cell_type": "code",
   "execution_count": 1,
   "metadata": {
    "collapsed": false
   },
   "outputs": [],
   "source": [
    "%matplotlib inline\n",
    "import numpy as np\n",
    "import matplotlib.pyplot as plt"
   ]
  },
  {
   "cell_type": "markdown",
   "metadata": {},
   "source": [
    "## Problem setting"
   ]
  },
  {
   "cell_type": "markdown",
   "metadata": {},
   "source": [
    "### A simple definition of machine learning"
   ]
  },
  {
   "cell_type": "markdown",
   "metadata": {},
   "source": [
    "Machine Learning (ML) is about building programs with **tunable parameters** (typically an\n",
    "array of floating point values) that are adjusted automatically so as to improve\n",
    "their behavior by **adapting to previously seen data.**\n",
    "\n",
    "In most ML applications, the data is in a 2D array of shape ``[n_samples x n_features]``,\n",
    "where the number of features is the same for each object, and each feature column refers\n",
    "to a related piece of information about each sample.\n",
    "\n",
    "Machine learning can be broken into two broad regimes:\n",
    "*supervised learning* and *unsupervised learning*.\n",
    "We’ll introduce these concepts here, and discuss them in more detail below."
   ]
  },
  {
   "cell_type": "markdown",
   "metadata": {},
   "source": [
    "### Introducing the scikit-learn estimator object"
   ]
  },
  {
   "cell_type": "markdown",
   "metadata": {},
   "source": [
    "Every algorithm is exposed in scikit-learn via an ''Estimator'' object. For instance a linear regression is:"
   ]
  },
  {
   "cell_type": "code",
   "execution_count": 2,
   "metadata": {
    "collapsed": false
   },
   "outputs": [],
   "source": [
    "from sklearn.linear_model import LinearRegression"
   ]
  },
  {
   "cell_type": "markdown",
   "metadata": {},
   "source": [
    "**Estimator parameters**: All the parameters of an estimator can be set when it is instantiated:"
   ]
  },
  {
   "cell_type": "code",
   "execution_count": 3,
   "metadata": {
    "collapsed": false
   },
   "outputs": [
    {
     "name": "stdout",
     "output_type": "stream",
     "text": [
      "True\n"
     ]
    }
   ],
   "source": [
    "model = LinearRegression(normalize=True)\n",
    "print model.normalize"
   ]
  },
  {
   "cell_type": "code",
   "execution_count": 4,
   "metadata": {
    "collapsed": false
   },
   "outputs": [
    {
     "name": "stdout",
     "output_type": "stream",
     "text": [
      "LinearRegression(copy_X=True, fit_intercept=True, n_jobs=1, normalize=True)\n"
     ]
    }
   ],
   "source": [
    "print model"
   ]
  },
  {
   "cell_type": "markdown",
   "metadata": {},
   "source": [
    "**Estimated parameters**: When data is fitted with an estimator, parameters are estimated from the data at hand. All the estimated parameters are attributes of the estimator object ending by an underscore:"
   ]
  },
  {
   "cell_type": "code",
   "execution_count": 7,
   "metadata": {
    "collapsed": false
   },
   "outputs": [],
   "source": [
    "x = np.array([0, 1, 2])\n",
    "y = np.array([0, 1, 2])"
   ]
  },
  {
   "cell_type": "code",
   "execution_count": 8,
   "metadata": {
    "collapsed": false
   },
   "outputs": [
    {
     "data": {
      "image/png": "[encoded data removed]",
      "text/plain": [
       "<matplotlib.figure.Figure at 0x11164e7d0>"
      ]
     },
     "metadata": {},
     "output_type": "display_data"
    }
   ],
   "source": [
    "plt.plot(x, y, marker='o');"
   ]
  },
  {
   "cell_type": "code",
   "execution_count": 9,
   "metadata": {
    "collapsed": false
   },
   "outputs": [
    {
     "data": {
      "text/plain": [
       "array([[0],\n",
       "       [1],\n",
       "       [2]])"
      ]
     },
     "execution_count": 9,
     "metadata": {},
     "output_type": "execute_result"
    }
   ],
   "source": [
    "X = x[:, np.newaxis] # The input data for sklearn is 2D: (samples == 3 x features == 1)\n",
    "X"
   ]
  },
  {
   "cell_type": "code",
   "execution_count": 10,
   "metadata": {
    "collapsed": false
   },
   "outputs": [
    {
     "data": {
      "text/plain": [
       "array([ 1.])"
      ]
     },
     "execution_count": 10,
     "metadata": {},
     "output_type": "execute_result"
    }
   ],
   "source": [
    "model.fit(X, y) \n",
    "model.coef_"
   ]
  },
  {
   "cell_type": "markdown",
   "metadata": {},
   "source": [
    "## Supervised Learning: Classification and regression"
   ]
  },
  {
   "cell_type": "markdown",
   "metadata": {},
   "source": [
    "In **Supervised Learning**, we have a dataset consisting of both features and labels.\n",
    "The task is to construct an estimator which is able to predict the label of an object\n",
    "given the set of features. A relatively simple example is predicting the species of \n",
    "iris given a set of measurements of its flower. This is a relatively simple task. \n",
    "Some more complicated examples are:\n",
    "\n",
    "- given a multicolor image of an object through a telescope, determine\n",
    "  whether that object is a star, a quasar, or a galaxy.\n",
    "- given a photograph of a person, identify the person in the photo.\n",
    "- given a list of movies a person has watched and their personal rating\n",
    "  of the movie, recommend a list of movies they would like\n",
    "  (So-called *recommender systems*: a famous example is the [Netflix Prize](http://en.wikipedia.org/wiki/Netflix_prize)).\n",
    "\n",
    "What these tasks have in common is that there is one or more unknown\n",
    "quantities associated with the object which needs to be determined from other\n",
    "observed quantities.\n",
    "\n",
    "Supervised learning is further broken down into two categories, **classification** and **regression**.\n",
    "In classification, the label is discrete, while in regression, the label is continuous. For example,\n",
    "in astronomy, the task of determining whether an object is a star, a galaxy, or a quasar is a\n",
    "classification problem: the label is from three distinct categories. On the other hand, we might\n",
    "wish to estimate the age of an object based on such observations: this would be a regression problem,\n",
    "because the label (age) is a continuous quantity."
   ]
  },
  {
   "cell_type": "markdown",
   "metadata": {},
   "source": [
    "### Classification\n",
    "K nearest neighbors (kNN) is one of the simplest learning strategies: given a new, unknown observation, look up in your reference database which ones have the closest features and assign the predominant class.\n",
    "\n",
    "Let's try it out on our iris classification problem:"
   ]
  },
  {
   "cell_type": "code",
   "execution_count": 23,
   "metadata": {
    "collapsed": false
   },
   "outputs": [
    {
     "name": "stdout",
     "output_type": "stream",
     "text": [
      "['virginica']\n"
     ]
    }
   ],
   "source": [
    "from sklearn import neighbors, datasets\n",
    "iris = datasets.load_iris()\n",
    "X, y = iris.data, iris.target\n",
    "knn = neighbors.KNeighborsClassifier(n_neighbors=1)\n",
    "knn.fit(X, y)\n",
    "# What kind of iris has 3cm x 5cm sepal and 4cm x 2cm petal?\n",
    "print iris.target_names[knn.predict([[3, 5, 4, 2]])]"
   ]
  },
  {
   "cell_type": "code",
   "execution_count": 24,
   "metadata": {
    "collapsed": false
   },
   "outputs": [
    {
     "data": {
      "image/png": "[encoded data removed]",
      "text/plain": [
       "<matplotlib.figure.Figure at 0x111a28fd0>"
      ]
     },
     "metadata": {},
     "output_type": "display_data"
    }
   ],
   "source": [
    "# A plot of the sepal space and the prediction of the KNN\n",
    "from fig_code import plot_iris_classification\n",
    "plot_iris_classification(neighbors.KNeighborsClassifier, n_neighbors=5)"
   ]
  },
  {
   "cell_type": "markdown",
   "metadata": {},
   "source": [
    "#### Quick Exercise\n",
    "Now use as an estimator on the same problem: ``sklearn.svm.SVC``.\n",
    "\n",
    "(Note that you don't have to know what it is to use it. If you finish early, do the same plot as above)."
   ]
  },
  {
   "cell_type": "code",
   "execution_count": 46,
   "metadata": {
    "collapsed": false
   },
   "outputs": [
    {
     "name": "stdout",
     "output_type": "stream",
     "text": [
      "['versicolor']\n",
      "[[ 0.1046199  0.8290461  0.066334 ]]\n"
     ]
    }
   ],
   "source": [
    "from sklearn.svm import SVC\n",
    "unknown_iris = [[3, 5, 4, 2]]\n",
    "\n",
    "# Use SVC to train and predict the species of the unknown iris...\n",
    "svc_model = SVC(kernel='linear', probability=True)\n",
    "svc_model.fit(X,y)\n",
    "#print svc_model.coef_\n",
    "print iris.target_names[svc_model.predict(unknown_iris)]\n",
    "print svc_model.predict_proba(unknown_iris)\n",
    "\n"
   ]
  },
  {
   "cell_type": "markdown",
   "metadata": {},
   "source": [
    "### Regression\n",
    "The simplest possible regression setting is the linear regression one:"
   ]
  },
  {
   "cell_type": "code",
   "execution_count": 31,
   "metadata": {
    "collapsed": false
   },
   "outputs": [],
   "source": [
    "# Create some simple data\n",
    "np.random.seed(0)\n",
    "X = np.random.random(size=(20, 1))\n",
    "y = 3 * X.squeeze() + 2 + np.random.normal(size=20)"
   ]
  },
  {
   "cell_type": "code",
   "execution_count": 32,
   "metadata": {
    "collapsed": false
   },
   "outputs": [
    {
     "name": "stdout",
     "output_type": "stream",
     "text": [
      "Model coefficient: 3.93491, and intercept: 1.46229\n"
     ]
    }
   ],
   "source": [
    "# Fit a linear regression to it\n",
    "from sklearn.linear_model import LinearRegression\n",
    "model = LinearRegression(fit_intercept=True)\n",
    "model.fit(X, y)\n",
    "print \"Model coefficient: %.5f, and intercept: %.5f\" % (model.coef_, model.intercept_)"
   ]
  },
  {
   "cell_type": "code",
   "execution_count": 33,
   "metadata": {
    "collapsed": false
   },
   "outputs": [
    {
     "data": {
      "image/png": "[encoded data removed]",
      "text/plain": [
       "<matplotlib.figure.Figure at 0x111a41ad0>"
      ]
     },
     "metadata": {},
     "output_type": "display_data"
    }
   ],
   "source": [
    "# Plot the data and the model prediction\n",
    "X_test = np.linspace(0, 1, 100)[:, np.newaxis]\n",
    "y_test = model.predict(X_test)\n",
    "import pylab as pl\n",
    "plt.plot(X.squeeze(), y, 'o')\n",
    "plt.plot(X_test.squeeze(), y_test);"
   ]
  },
  {
   "cell_type": "markdown",
   "metadata": {},
   "source": [
    "## Unsupervised Learning"
   ]
  },
  {
   "cell_type": "markdown",
   "metadata": {},
   "source": [
    "**Unsupervised Learning** addresses a different sort of problem. Here the data has no labels,\n",
    "and we are interested in finding similarities between the objects in question. In a sense,\n",
    "you can think of unsupervised learning as a means of discovering labels from the data itself.\n",
    "Unsupervised learning comprises tasks such as *dimensionality reduction*, *clustering*, and\n",
    "*density estimation*. For example, in the iris data discussed above, we can used unsupervised\n",
    "methods to determine combinations of the measurements which best display the structure of the\n",
    "data. As we’ll see below, such a projection of the data can be used to visualize the\n",
    "four-dimensional dataset in two dimensions. Some more involved unsupervised learning problems are:\n",
    "\n",
    "- given detailed observations of distant galaxies, determine which features or combinations of\n",
    "  features summarize best the information.\n",
    "- given a mixture of two sound sources (for example, a person talking over some music),\n",
    "  separate the two (this is called the [blind source separation](http://en.wikipedia.org/wiki/Blind_signal_separation) problem).\n",
    "- given a video, isolate a moving object and categorize in relation to other moving objects which have been seen.\n",
    "\n",
    "Sometimes the two may even be combined: e.g. Unsupervised learning can be used to find useful\n",
    "features in heterogeneous data, and then these features can be used within a supervised\n",
    "framework."
   ]
  },
  {
   "cell_type": "markdown",
   "metadata": {},
   "source": [
    "### Dimensionality Reduction\n",
    "\n",
    "Principle Component Analysis (PCA) is a dimension reduction technique that can find the combinations of variables that explain the most variance. Here we'll show an example of using PCA for visualization.\n",
    "\n",
    "Consider the iris dataset. It cannot be visualized in a single 2D plot, as it has 4 features. We are going to extract 2 combinations of sepal and petal dimensions to visualize it:"
   ]
  },
  {
   "cell_type": "code",
   "execution_count": 35,
   "metadata": {
    "collapsed": false
   },
   "outputs": [
    {
     "name": "stdout",
     "output_type": "stream",
     "text": [
      "(150, 4)\n",
      "Reduced dataset shape: (150, 2)\n"
     ]
    }
   ],
   "source": [
    "X, y = iris.data, iris.target\n",
    "from sklearn.decomposition import PCA\n",
    "pca = PCA(n_components=2)\n",
    "pca.fit(X)\n",
    "X_reduced = pca.transform(X)\n",
    "print X.shape\n",
    "print \"Reduced dataset shape:\", X_reduced.shape"
   ]
  },
  {
   "cell_type": "code",
   "execution_count": 36,
   "metadata": {
    "collapsed": false
   },
   "outputs": [
    {
     "data": {
      "image/png": "[encoded data removed]",
      "text/plain": [
       "<matplotlib.figure.Figure at 0x111a413d0>"
      ]
     },
     "metadata": {},
     "output_type": "display_data"
    }
   ],
   "source": [
    "plt.scatter(X_reduced[:, 0], X_reduced[:, 1], c=y);"
   ]
  },
  {
   "cell_type": "code",
   "execution_count": 37,
   "metadata": {
    "collapsed": false
   },
   "outputs": [
    {
     "name": "stdout",
     "output_type": "stream",
     "text": [
      "Meaning of the 2 components:\n",
      "0.36 x sepal length (cm) + -0.08 x sepal width (cm) + 0.86 x petal length (cm) + 0.36 x petal width (cm)\n",
      "-0.66 x sepal length (cm) + -0.73 x sepal width (cm) + 0.18 x petal length (cm) + 0.07 x petal width (cm)\n"
     ]
    }
   ],
   "source": [
    "print \"Meaning of the 2 components:\"\n",
    "for component in pca.components_:\n",
    "    print \" + \".join(\"%.2f x %s\" % (value, name)\n",
    "                     for value, name in zip(component, iris.feature_names))"
   ]
  },
  {
   "cell_type": "markdown",
   "metadata": {},
   "source": [
    "### Clustering\n",
    "\n",
    "Clustering groups together observations that are homogeneous with respect to a given criterion, finding ''clusters'' in the data.\n",
    "\n",
    "Note that these clusters will uncover relevent hidden structure of the data only if the criterion used highlights it."
   ]
  },
  {
   "cell_type": "code",
   "execution_count": 39,
   "metadata": {
    "collapsed": false
   },
   "outputs": [
    {
     "data": {
      "image/png": "[encoded data removed]",
      "text/plain": [
       "<matplotlib.figure.Figure at 0x111a416d0>"
      ]
     },
     "metadata": {},
     "output_type": "display_data"
    }
   ],
   "source": [
    "from sklearn.cluster import KMeans\n",
    "k_means = KMeans(n_clusters=3, random_state=0)\n",
    "k_means.fit(X)\n",
    "y_pred = k_means.predict(X)\n",
    "\n",
    "plt.scatter(X_reduced[:, 0], X_reduced[:, 1], c=y_pred);"
   ]
  },
  {
   "cell_type": "markdown",
   "metadata": {},
   "source": [
    "## A recap on Scikit-learn's estimator interface"
   ]
  },
  {
   "cell_type": "markdown",
   "metadata": {},
   "source": [
    "Scikit-learn strives to have a uniform interface across all methods,\n",
    "and we’ll see examples of these below. Given a scikit-learn *estimator*\n",
    "object named `model`, the following methods are available:\n",
    "\n",
    "- Available in **all Estimators**\n",
    "  + `model.fit()` : fit training data. For supervised learning applications,\n",
    "    this accepts two arguments: the data `X` and the labels `y` (e.g. `model.fit(X, y)`).\n",
    "    For unsupervised learning applications, this accepts only a single argument,\n",
    "    the data `X` (e.g. `model.fit(X)`).\n",
    "- Available in **supervised estimators**\n",
    "  + `model.predict()` : given a trained model, predict the label of a new set of data.\n",
    "    This method accepts one argument, the new data `X_new` (e.g. `model.predict(X_new)`),\n",
    "    and returns the learned label for each object in the array.\n",
    "  + `model.predict_proba()` : For classification problems, some estimators also provide\n",
    "    this method, which returns the probability that a new observation has each categorical label.\n",
    "    In this case, the label with the highest probability is returned by `model.predict()`.\n",
    "  + `model.score()` : for classification or regression problems, most (all?) estimators implement\n",
    "    a score method.  Scores are between 0 and 1, with a larger score indicating a better fit.\n",
    "- Available in **unsupervised estimators**\n",
    "  + `model.transform()` : given an unsupervised model, transform new data into the new basis.\n",
    "    This also accepts one argument `X_new`, and returns the new representation of the data based\n",
    "    on the unsupervised model.\n",
    "  + `model.fit_transform()` : some estimators implement this method,\n",
    "    which more efficiently performs a fit and a transform on the same input data."
   ]
  },
  {
   "cell_type": "markdown",
   "metadata": {},
   "source": [
    "### Measuring Performance"
   ]
  },
  {
   "cell_type": "markdown",
   "metadata": {},
   "source": [
    "An important piece of machine learning is **model validation**: that is, determining how well your model will generalize from the training data to future unlabeled data. Let's look at an example using the *nearest neighbor classifier*. This is a very simple classifier: it simply stores all training data, and for any unknown quantity, simply returns the label of the closest training point.\n",
    "\n",
    "With the iris data, it very easily returns the correct prediction for each of the input points:"
   ]
  },
  {
   "cell_type": "code",
   "execution_count": 19,
   "metadata": {
    "collapsed": false
   },
   "outputs": [
    {
     "name": "stdout",
     "output_type": "stream",
     "text": [
      "True\n"
     ]
    }
   ],
   "source": [
    "from sklearn.neighbors import KNeighborsClassifier\n",
    "X, y = iris.data, iris.target\n",
    "clf = KNeighborsClassifier(n_neighbors=1)\n",
    "clf.fit(X, y)\n",
    "y_pred = clf.predict(X)\n",
    "print(np.all(y == y_pred))"
   ]
  },
  {
   "cell_type": "markdown",
   "metadata": {},
   "source": [
    "A more useful way to look at the results is to view the **confusion matrix**, or the matrix showing the frequency of inputs and outputs:"
   ]
  },
  {
   "cell_type": "code",
   "execution_count": 20,
   "metadata": {
    "collapsed": false
   },
   "outputs": [
    {
     "name": "stdout",
     "output_type": "stream",
     "text": [
      "[[50  0  0]\n",
      " [ 0 50  0]\n",
      " [ 0  0 50]]\n"
     ]
    }
   ],
   "source": [
    "from sklearn.metrics import confusion_matrix\n",
    "print(confusion_matrix(y, y_pred))"
   ]
  },
  {
   "cell_type": "markdown",
   "metadata": {},
   "source": [
    "For each class, all 50 training samples are correctly identified. But this **does not mean that our model is perfect!** In particular, such a model generalizes extremely poorly to new data. We can simulate this by splitting our data into a *training set* and a *testing set*. Scikit-learn contains some convenient routines to do this:"
   ]
  },
  {
   "cell_type": "code",
   "execution_count": 21,
   "metadata": {
    "collapsed": false
   },
   "outputs": [
    {
     "name": "stdout",
     "output_type": "stream",
     "text": [
      "[[12  0  0]\n",
      " [ 0 11  3]\n",
      " [ 0  0 12]]\n"
     ]
    }
   ],
   "source": [
    "from sklearn.cross_validation import train_test_split\n",
    "Xtrain, Xtest, ytrain, ytest = train_test_split(X, y)\n",
    "clf.fit(Xtrain, ytrain)\n",
    "ypred = clf.predict(Xtest)\n",
    "print(confusion_matrix(ytest, ypred))"
   ]
  },
  {
   "cell_type": "markdown",
   "metadata": {},
   "source": [
    "This paints a better picture of the true performance of our classifier: apparently there is some confusion between the second and third species, which we might anticipate given what we've seen of the data above.\n",
    "\n",
    "This is why it's **extremely important** to use a train/test split when evaluating your models.  We'll go into more depth on model evaluation later in this tutorial."
   ]
  },
  {
   "cell_type": "markdown",
   "metadata": {},
   "source": [
    "## Exercise: Interactive Demo on linearly separable data"
   ]
  },
  {
   "cell_type": "markdown",
   "metadata": {},
   "source": [
    "To get a feel for how a classification task works, please run the **svm_gui.py** file available in the repository (use the command below). It will open an interactive window which allows you to click and add points and see how this affects the model.\n",
    "\n",
    "What is the fewest number of points you can create that are not linearly separable (that is, for which a linear kernel fails to build a correct discriminative model)?"
   ]
  },
  {
   "cell_type": "code",
   "execution_count": 48,
   "metadata": {
    "collapsed": false
   },
   "outputs": [
    {
     "name": "stdout",
     "output_type": "stream",
     "text": [
      "\n",
      "==========\n",
      "Libsvm GUI\n",
      "==========\n",
      "\n",
      "A simple graphical frontend for Libsvm mainly intended for didactic\n",
      "purposes. You can create data points by point and click and visualize\n",
      "the decision region induced by different kernels and parameter settings.\n",
      "\n",
      "To create positive examples click the left mouse button; to create\n",
      "negative examples click the right button.\n",
      "\n",
      "If all examples are from the same class, it uses a one-class SVM.\n",
      "\n",
      "\n",
      "fit the model\n",
      "Accuracy: 69.5652173913\n",
      "fit the model\n",
      "Accuracy: 70.8333333333\n",
      "fit the model\n",
      "Accuracy: 72.0\n",
      "fit the model\n",
      "Accuracy: 69.2307692308\n",
      "fit the model\n",
      "Accuracy: 66.6666666667\n",
      "fit the model\n",
      "Accuracy: 64.2857142857\n",
      "fit the model\n",
      "Accuracy: 62.0689655172\n",
      "fit the model\n",
      "Accuracy: 60.0\n",
      "fit the model\n",
      "Accuracy: 58.064516129\n",
      "fit the model\n",
      "Accuracy: 56.25\n",
      "fit the model\n",
      "Accuracy: 63.6363636364\n",
      "fit the model\n",
      "Accuracy: 64.7058823529\n",
      "fit the model\n",
      "Accuracy: 60.0\n",
      "fit the model\n",
      "Accuracy: 58.3333333333\n",
      "fit the model\n",
      "Accuracy: 67.5675675676\n",
      "fit the model\n",
      "Accuracy: 65.7894736842\n",
      "fit the model\n",
      "Accuracy: 66.6666666667\n",
      "fit the model\n",
      "Accuracy: 67.5\n",
      "fit the model\n",
      "Accuracy: 73.1707317073\n",
      "fit the model\n",
      "Accuracy: 73.8095238095\n",
      "fit the model\n",
      "Accuracy: 74.4186046512\n",
      "fit the model\n",
      "Accuracy: 72.7272727273\n",
      "fit the model\n",
      "Accuracy: 88.6363636364\n",
      "fit the model\n",
      "Accuracy: 70.4545454545\n",
      "fit the model\n",
      "fit the model\n",
      "fit the model\n",
      "fit the model\n",
      "fit the model\n",
      "fit the model\n",
      "fit the model\n",
      "fit the model\n",
      "fit the model\n",
      "fit the model\n",
      "Accuracy: 100.0\n",
      "fit the model\n",
      "Accuracy: 100.0\n",
      "fit the model\n",
      "Accuracy: 100.0\n",
      "fit the model\n",
      "Accuracy: 100.0\n",
      "fit the model\n",
      "Accuracy: 100.0\n",
      "fit the model\n",
      "Accuracy: 100.0\n",
      "fit the model\n",
      "Accuracy: 100.0\n",
      "fit the model\n",
      "Accuracy: 100.0\n",
      "fit the model\n",
      "Accuracy: 100.0\n",
      "fit the model\n",
      "Accuracy: 100.0\n",
      "fit the model\n",
      "Accuracy: 100.0\n",
      "fit the model\n",
      "Accuracy: 100.0\n",
      "fit the model\n",
      "Accuracy: 100.0\n",
      "fit the model\n",
      "Accuracy: 100.0\n",
      "fit the model\n",
      "Accuracy: 100.0\n",
      "fit the model\n",
      "Accuracy: 100.0\n",
      "fit the model\n",
      "Accuracy: 100.0\n",
      "fit the model\n",
      "Accuracy: 100.0\n",
      "fit the model\n",
      "Accuracy: 100.0\n",
      "fit the model\n",
      "Accuracy: 100.0\n",
      "fit the model\n",
      "Accuracy: 100.0\n",
      "fit the model\n",
      "Accuracy: 100.0\n",
      "fit the model\n",
      "Accuracy: 96.7741935484\n",
      "fit the model\n",
      "Accuracy: 96.7741935484\n",
      "fit the model\n",
      "Accuracy: 96.7741935484\n",
      "fit the model\n",
      "Accuracy: 96.7741935484\n",
      "fit the model\n",
      "Accuracy: 66.6666666667\n",
      "fit the model\n",
      "Accuracy: 100.0\n",
      "fit the model\n",
      "Accuracy: 100.0\n",
      "fit the model\n",
      "Accuracy: 66.6666666667\n",
      "fit the model\n",
      "Accuracy: 75.0\n",
      "fit the model\n",
      "Accuracy: 60.0\n",
      "fit the model\n",
      "Accuracy: 100.0\n",
      "fit the model\n",
      "Accuracy: 66.6666666667\n",
      "fit the model\n",
      "Accuracy: 100.0\n",
      "fit the model\n",
      "Accuracy: 100.0\n",
      "fit the model\n",
      "Accuracy: 100.0\n",
      "fit the model\n",
      "Accuracy: 100.0\n",
      "fit the model\n",
      "Accuracy: 100.0\n",
      "fit the model\n",
      "Accuracy: 71.4285714286\n",
      "fit the model\n",
      "Accuracy: 75.0\n",
      "fit the model\n",
      "Accuracy: 77.7777777778\n",
      "fit the model\n",
      "Accuracy: 80.0\n",
      "fit the model\n",
      "Accuracy: 81.8181818182\n",
      "fit the model\n",
      "Accuracy: 75.0\n",
      "fit the model\n",
      "Accuracy: 76.9230769231\n",
      "fit the model\n",
      "Accuracy: 78.5714285714\n",
      "fit the model\n",
      "Accuracy: 80.0\n",
      "fit the model\n",
      "Accuracy: 75.0\n",
      "fit the model\n",
      "Accuracy: 64.7058823529\n",
      "fit the model\n",
      "Accuracy: 83.3333333333\n",
      "fit the model\n",
      "Accuracy: 84.2105263158\n",
      "fit the model\n",
      "Accuracy: 85.0\n",
      "fit the model\n",
      "Accuracy: 85.7142857143\n",
      "fit the model\n",
      "Accuracy: 81.8181818182\n",
      "fit the model\n",
      "Accuracy: 86.9565217391\n",
      "fit the model\n",
      "Accuracy: 75.0\n",
      "fit the model\n",
      "Accuracy: 76.0\n",
      "fit the model\n",
      "Accuracy: 80.7692307692\n",
      "fit the model\n",
      "Accuracy: 81.4814814815\n",
      "fit the model\n",
      "Accuracy: 82.1428571429\n",
      "fit the model\n",
      "Accuracy: 79.3103448276\n",
      "fit the model\n",
      "Accuracy: 66.6666666667\n",
      "fit the model\n",
      "Accuracy: 64.5161290323\n",
      "fit the model\n",
      "Accuracy: 65.625\n",
      "fit the model\n",
      "Accuracy: 66.6666666667\n",
      "fit the model\n",
      "Accuracy: 67.6470588235\n",
      "fit the model\n",
      "Accuracy: 68.5714285714\n",
      "fit the model\n",
      "Accuracy: 69.4444444444\n",
      "fit the model\n",
      "Accuracy: 67.5675675676\n",
      "fit the model\n",
      "Accuracy: 65.7894736842\n",
      "fit the model\n",
      "Accuracy: 64.1025641026\n",
      "fit the model\n",
      "Accuracy: 65.0\n",
      "fit the model\n",
      "Accuracy: 70.7317073171\n"
     ]
    }
   ],
   "source": [
    "#%run fig_code/svm_gui.py\n",
    "#    or, if this doesn't work, try\n",
    "!python fig_code/svm_gui.py"
   ]
  },
  {
   "cell_type": "markdown",
   "metadata": {},
   "source": [
    "## Flow chart: how do I choose what to do with my data set?"
   ]
  },
  {
   "cell_type": "markdown",
   "metadata": {},
   "source": [
    "This is a flow chart created by scikit-learn super-contributor [Andreas Mueller](https://github.com/amueller) which gives a nice summary of which algorithms to choose in various situations. Keep it around as a handy reference!"
   ]
  },
  {
   "cell_type": "markdown",
   "metadata": {},
   "source": [
    "<a href=\"http://scikit-learn.org/dev/tutorial/machine_learning_map/index.html\"><img src=\"http://scikit-learn.org/dev/_static/ml_map.png\" width=100%></a>\n",
    "\n",
    "Original source on the [scikit-learn website](http://scikit-learn.org/stable/tutorial/machine_learning_map/)"
   ]
  }
 ],
 "metadata": {
  "kernelspec": {
   "display_name": "Python 2",
   "language": "python",
   "name": "python2"
  },
  "language_info": {
   "codemirror_mode": {
    "name": "ipython",
    "version": 2
   },
   "file_extension": ".py",
   "mimetype": "text/x-python",
   "name": "python",
   "nbconvert_exporter": "python",
   "pygments_lexer": "ipython2",
   "version": "2.7.6"
  }
 },
 "nbformat": 4,
 "nbformat_minor": 0
}
