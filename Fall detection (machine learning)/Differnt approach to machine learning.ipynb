{
 "cells": [
  {
   "cell_type": "code",
   "execution_count": 120,
   "metadata": {
    "collapsed": false
   },
   "outputs": [
    {
     "name": "stdout",
     "output_type": "stream",
     "text": [
      "KKN: 48/102 correctly predicted.\n",
      "SVC: 57/102 correctly predicted.\n",
      "Randomd Forest Classifier: 84/102 correctly predicted.\n",
      "Naive Bayes: 81/102 correctly predicted.\n"
     ]
    },
    {
     "data": {
      "text/plain": [
       "<matplotlib.text.Text at 0x1231848d0>"
      ]
     },
     "execution_count": 120,
     "metadata": {},
     "output_type": "execute_result"
    },
    {
     "data": {
      "image/png": "[encoded data removed]",
      "text/plain": [
       "<matplotlib.figure.Figure at 0x122958990>"
      ]
     },
     "metadata": {},
     "output_type": "display_data"
    }
   ],
   "source": [
    "import numpy as np\n",
    "import matplotlib.pyplot as plt\n",
    "import matplotlib.cm as cm\n",
    "%matplotlib inline\n",
    "\n",
    "import time\n",
    "\n",
    "###DATA MANIPULATION\n",
    "\n",
    "#Load data\n",
    "X = np.load('AccData/X.npy')\n",
    "y = np.load('AccData/A.npy')\n",
    "\n",
    "#Remove outliers\n",
    "X = np.delete(X, [0,150], axis=0)\n",
    "y = np.delete(y, [0,150], axis=0)\n",
    "    \n",
    "#Basic statistics\n",
    "from scipy import stats\n",
    "\n",
    "X_rms = np.sqrt(np.average(X**2, axis=1)) #root mean square value of x, y, and z\n",
    "\n",
    "X_mean = np.mean(X_rms,axis=1) #mean of X_rms (in time)\n",
    "X_var = np.var(X_rms, axis=1) #variance of X_rms (in time)\n",
    "X_skew = stats.skew(X_rms, axis=1) #skewnes of distribution\n",
    "X_kurt = stats.kurtosis(X_rms, axis=1)\n",
    "\n",
    "#Calculate body tilt\n",
    "tilt = np.arccos(X[:,2,:]/np.sqrt(X[:,0,:]**2+X[:,1,:]**2+X[:,2,:]**2))\n",
    "\n",
    "tilt_mean = np.mean(tilt,axis=1)\n",
    "tilt_var = np.var(tilt,axis=1)\n",
    "tilt_skew = stats.skew(tilt, axis=1)\n",
    "tilt_kurt = stats.kurtosis(tilt, axis=1)\n",
    "\n",
    "#MACHINE LEARNING\n",
    "\n",
    "#Feature Matrix\n",
    "#features = X_mean, X_var, X_skew, X_kurt, tilt_mean, tilt_var, tilt_skew, tilt_kurt\n",
    "features = X_var, X_kurt, tilt_mean, tilt_var, tilt_skew\n",
    "F = np.column_stack(features)\n",
    "\n",
    "#Split into test and training set\n",
    "from sklearn.cross_validation import train_test_split\n",
    "\n",
    "F_train, F_test, y_train, y_test = train_test_split(F, y, test_size=0.25, random_state=42)\n",
    "\n",
    "#KNN model\n",
    "from sklearn import neighbors\n",
    "y_pred_1 = neighbors.KNeighborsClassifier(n_neighbors=1).fit(F_train, y_train).predict(F_test)\n",
    "\n",
    "#SVC model\n",
    "from sklearn.svm import SVC\n",
    "y_pred_2 = SVC(kernel='linear').fit(F_train, y_train).predict(F_test)\n",
    "\n",
    "#Random Forest Classifier\n",
    "#from sklearn.ensemble import RandomForestClassifier\n",
    "#y_pred_3 = RandomForestClassifier(n_estimators=20, random_state=0).fit(F_train, y_train).predict(F_test)\n",
    "\n",
    "#Extra Trees Classifier\n",
    "from sklearn.ensemble import ExtraTreesClassifier\n",
    "model_3 = ExtraTreesClassifier(n_estimators=20, random_state=0)\n",
    "y_pred_3 = model_3.fit(F_train, y_train).predict(F_test)\n",
    "imp = model_3.feature_importances_\n",
    "\n",
    "#plt.bar(range(len(imp)),imp, align='center', alpha=0.4)\n",
    "\n",
    "#from sklearn.ensemble import AdaBoostClassifier\n",
    "#y_pred_4 = AdaBoostClassifier().fit(F_train, y_train).predict(F_test)\n",
    "\n",
    "#Naive Bayes\n",
    "from sklearn.naive_bayes import GaussianNB\n",
    "y_pred_4 = GaussianNB().fit(F_train, y_train).predict(F_test)\n",
    "\n",
    "#ASSESING HOW WELL MACHINE LEARNING DID\n",
    "\n",
    "print(\"KKN: %d/%d correctly predicted.\" % (((y_test == y_pred_1).sum()),len(y_test)))\n",
    "print(\"SVC: %d/%d correctly predicted.\" % (((y_test == y_pred_2).sum()),len(y_test)))\n",
    "print(\"Randomd Forest Classifier: %d/%d correctly predicted.\" % (((y_test == y_pred_3).sum()),len(y_test)))\n",
    "print(\"Naive Bayes: %d/%d correctly predicted.\" % (((y_test == y_pred_4).sum()),len(y_test)))\n",
    "\n",
    "#Confusion matrix\n",
    "from sklearn import metrics\n",
    "\n",
    "confu_matrix_1 = metrics.confusion_matrix(y_pred_1, y_test)\n",
    "confu_matrix_2 = metrics.confusion_matrix(y_pred_2, y_test)\n",
    "confu_matrix_3 = metrics.confusion_matrix(y_pred_3, y_test)\n",
    "confu_matrix_4 = metrics.confusion_matrix(y_pred_4, y_test)\n",
    "\n",
    "#plot the data in three dimensions\n",
    "fig, ax = plt.subplots(nrows=2, ncols=2, figsize=(10,10))\n",
    "\n",
    "ax[0,0].imshow(confu_matrix_1, interpolation='nearest', cmap=plt.cm.summer)\n",
    "ax[0,0].set_title(\"KNN\")\n",
    "ax[0,0].set_xlabel(\"true label\")\n",
    "ax[0,0].set_ylabel(\"predicted label\")\n",
    "\n",
    "ax[0,1].imshow(confu_matrix_2, interpolation='nearest', cmap=plt.cm.summer)\n",
    "ax[0,1].set_title(\"SVC\")\n",
    "ax[0,1].set_xlabel(\"true label\")\n",
    "ax[0,1].set_ylabel(\"predicted label\")\n",
    "\n",
    "ax[1,0].imshow(confu_matrix_3, interpolation='nearest', cmap=plt.cm.summer)\n",
    "ax[1,0].set_title(\"Random Forests\")\n",
    "ax[1,0].set_xlabel(\"true label\")\n",
    "ax[1,0].set_ylabel(\"predicted label\")\n",
    "\n",
    "ax[1,1].imshow(confu_matrix_4, interpolation='nearest', cmap=plt.cm.summer)\n",
    "ax[1,1].set_title(\"Naive Bayes\")\n",
    "ax[1,1].set_xlabel(\"true label\")\n",
    "ax[1,1].set_ylabel(\"predicted label\")"
   ]
  },
  {
   "cell_type": "code",
   "execution_count": null,
   "metadata": {
    "collapsed": true
   },
   "outputs": [],
   "source": [
    "#DTW\n",
    "from mlpy import dtw_std\n",
    "\n",
    "d_av = np.zeros((X.shape[0]),dtype=float)\n",
    "for i in range(X.shape[0]):\n",
    "    d_xy = dtw_std(X[i,0,:],X[i,1,:])\n",
    "    d_xz = dtw_std(X[i,0,:],X[i,2,:])\n",
    "    d_yz = dtw_std(X[i,1,:],X[i,2,:])\n",
    "    d_av[i] = (d_xy+d_xz+d_yz)/3\n",
    "\n",
    "#Longest common subsequence\n",
    "from mlpy import lcs_real\n",
    "lcs_av = np.zeros((X.shape[0]),dtype=float)\n",
    "for i in range(X.shape[0]):\n",
    "    lcs_xy,path = lcs_real(X[i,0,:],X[i,1,:],eps=.3,delta=15)\n",
    "    lcs_xz,path = lcs_real(X[i,0,:],X[i,2,:],eps=.3,delta=15)\n",
    "    lcs_yz,path = lcs_real(X[i,1,:],X[i,2,:],eps=.3,delta=15)\n",
    "    lcs_av[i] = (lcs_xy+lcs_xz+lcs_yz)/3"
   ]
  }
 ],
 "metadata": {
  "kernelspec": {
   "display_name": "Python 2",
   "language": "python",
   "name": "python2"
  },
  "language_info": {
   "codemirror_mode": {
    "name": "ipython",
    "version": 2
   },
   "file_extension": ".py",
   "mimetype": "text/x-python",
   "name": "python",
   "nbconvert_exporter": "python",
   "pygments_lexer": "ipython2",
   "version": "2.7.6"
  }
 },
 "nbformat": 4,
 "nbformat_minor": 0
}
