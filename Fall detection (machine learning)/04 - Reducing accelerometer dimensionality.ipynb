{
 "cells": [
  {
   "cell_type": "markdown",
   "metadata": {},
   "source": [
    "9 June 2015, P.M."
   ]
  },
  {
   "cell_type": "markdown",
   "metadata": {},
   "source": [
    "#Reduction of accelerometer dimensionality\n",
    "\n",
    "\n",
    "Using the strategy from **03** I try to reduce the dimensionality of the data here. This is to explore how the amount of data necessary to be transmitted can be reduced to save power on the on-person-device."
   ]
  },
  {
   "cell_type": "markdown",
   "metadata": {},
   "source": [
    "```\n",
    "fall = 4\n",
    "lie down = 3\n",
    "sit down = 2\n",
    "stand = 1\n",
    "walk = 0\n",
    "```"
   ]
  },
  {
   "cell_type": "code",
   "execution_count": 59,
   "metadata": {
    "collapsed": false
   },
   "outputs": [
    {
     "data": {
      "image/png": "[encoded data removed]",
      "text/plain": [
       "<matplotlib.figure.Figure at 0x104f37b50>"
      ]
     },
     "metadata": {},
     "output_type": "display_data"
    }
   ],
   "source": [
    "import numpy as np\n",
    "import matplotlib.pyplot as plt\n",
    "import matplotlib.cm as cm\n",
    "%matplotlib inline\n",
    "\n",
    "import time\n",
    "import mlpy as ml\n",
    "\n",
    "###Load data\n",
    "X = np.load('X.npy')[0:50:2,:,:]\n",
    "y = np.load('A.npy')[0:50:2]\n",
    "\n",
    "X_test = np.load('X.npy')[1:50:2,:,:]\n",
    "y_test = np.load('A.npy')[1:50:2]\n",
    "\n",
    "###Taking the root mean square value of x, y, and z\n",
    "X_av = ((X[:,0,:]**2+X[:,1,:]**2+X[:,2,:]**2)/3)**0.5\n",
    "X_test_av = ((X_test[:,0,:]**2+X_test[:,1,:]**2+X_test[:,2,:]**2)/3)**0.5\n",
    "\n",
    "###Calculate distance matrix against test sample\n",
    "dist_X_av = np.zeros((X_test_av.shape[0], X_av.shape[0]),dtype=float)\n",
    "\n",
    "# k = test sample\n",
    "# i = row of training data\n",
    "# j = feature or dimension (x,y,z) --> reduced to one!\n",
    "\n",
    "for k in range(X_test_av.shape[0]):\n",
    "    for i in range(X_av.shape[0]):\n",
    "        dist_X_av[k,i] = ml.dtw_std(X_av[i,:],X_test_av[k,:])\n",
    "\n",
    "\n",
    "y_pred = np.zeros(X_test_av.shape[0], dtype=float)\n",
    "\n",
    "model = ml.KNN(1)\n",
    "\n",
    "for k in range(X_test_av.shape[0]): \n",
    "    model.learn(dist_X_av[k,:].reshape((dist_X_av[k,:].shape[0],1)),y)\n",
    "    y_pred[k] = model.pred([0.])\n",
    "\n",
    "###Assess prediction accuracy\n",
    "from sklearn import metrics\n",
    "import matplotlib.cm as cm\n",
    "\n",
    "plt.imshow(metrics.confusion_matrix(y_pred, y_test), interpolation='nearest', cmap=plt.cm.binary)\n",
    "plt.colorbar(ticks=[0,2.5,5])\n",
    "plt.xlabel(\"true label\")\n",
    "plt.ylabel(\"predicted label\");"
   ]
  },
  {
   "cell_type": "markdown",
   "metadata": {},
   "source": [
    "**Conclusion:** The rms value of x, y, and z is less accurate in classifying, but should be sufficient with a larger training data set."
   ]
  },
  {
   "cell_type": "code",
   "execution_count": null,
   "metadata": {
    "collapsed": true
   },
   "outputs": [],
   "source": []
  }
 ],
 "metadata": {
  "kernelspec": {
   "display_name": "Python 2",
   "language": "python",
   "name": "python2"
  },
  "language_info": {
   "codemirror_mode": {
    "name": "ipython",
    "version": 2
   },
   "file_extension": ".py",
   "mimetype": "text/x-python",
   "name": "python",
   "nbconvert_exporter": "python",
   "pygments_lexer": "ipython2",
   "version": "2.7.6"
  }
 },
 "nbformat": 4,
 "nbformat_minor": 0
}
