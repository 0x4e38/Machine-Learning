{
 "cells": [
  {
   "cell_type": "markdown",
   "metadata": {},
   "source": [
    "$$\n",
    "{\\bf F}~=~\\left[\n",
    "\\begin{matrix}\n",
    "x_{1} & y_{1} & z_{1} & p_{1}\\\\\n",
    "x_{2} & y_{2} & z_{2}& p_{2}\\\\\n",
    "\\vdots & \\vdots & \\vdots & \\vdots\\\\ \n",
    "x_{M} & y_{M} & z_{M} & p_{M}\\\\\n",
    "\\end{matrix}\n",
    "\\right]\n",
    "$$\n",
    "\n",
    "$$\n",
    "{\\bf A}~=~ [a_1, a_2, \\cdots a_M]\n",
    "$$\n",
    "\n",
    "$$\n",
    "{\\rm feature~matrix:~~~} {\\bf F}~=~\\left[\n",
    "\\begin{matrix}\n",
    "x_{11} & y_{11} & z_{11} & p_{11}\\\\\n",
    "x_{12} & y_{12} & z_{12}& p_{12}\\\\\n",
    "\\vdots & \\vdots & \\vdots & \\vdots\\\\ \n",
    "x_{1M} & y_{1M} & z_{1M} & p_{1M}\\\\\n",
    "\\end{matrix}\n",
    "\\right]\n",
    "$$\n",
    "\n",
    "$$\n",
    "{\\rm feature~matrix:~~~} {\\bf F}~=~\\left[\n",
    "\\begin{matrix}\n",
    "x_{21} & y_{21} & z_{21} & p_{21}\\\\\n",
    "x_{22} & y_{22} & z_{22}& p_{22}\\\\\n",
    "\\vdots & \\vdots & \\vdots & \\vdots\\\\ \n",
    "x_{2M} & y_{2M} & z_{2M} & p_{2M}\\\\\n",
    "\\end{matrix}\n",
    "\\right]\n",
    "$$\n",
    "\n",
    "$$\n",
    "{\\rm feature~matrix:~~~} {\\bf F}~=~\\left[\n",
    "\\begin{matrix}\n",
    "x_{N1} & y_{N1} & z_{N1} & p_{N1}\\\\\n",
    "x_{N2} & y_{N2} & z_{N2}& p_{N2}\\\\\n",
    "\\vdots & \\vdots & \\vdots & \\vdots\\\\ \n",
    "x_{NM} & y_{NM} & z_{NM} & p_{NM}\\\\\n",
    "\\end{matrix}\n",
    "\\right]\n",
    "$$"
   ]
  },
  {
   "cell_type": "code",
   "execution_count": null,
   "metadata": {
    "collapsed": true
   },
   "outputs": [],
   "source": []
  }
 ],
 "metadata": {
  "kernelspec": {
   "display_name": "Python 2",
   "language": "python",
   "name": "python2"
  },
  "language_info": {
   "codemirror_mode": {
    "name": "ipython",
    "version": 2
   },
   "file_extension": ".py",
   "mimetype": "text/x-python",
   "name": "python",
   "nbconvert_exporter": "python",
   "pygments_lexer": "ipython2",
   "version": "2.7.6"
  }
 },
 "nbformat": 4,
 "nbformat_minor": 0
}
